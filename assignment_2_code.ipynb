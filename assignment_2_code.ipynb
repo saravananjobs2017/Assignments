{
 "cells": [
  {
   "cell_type": "code",
   "execution_count": 1,
   "metadata": {},
   "outputs": [
    {
     "name": "stdout",
     "output_type": "stream",
     "text": [
      "21\n"
     ]
    }
   ],
   "source": [
    "#choose the greatest number from the list \n",
    "\n",
    "def myreduce(num):\n",
    "    num.sort()\n",
    "    high_num=0\n",
    "    for i in num:\n",
    "        if i > high_num:\n",
    "            pass\n",
    "    print(i)\n",
    "        \n",
    "myreduce([10,12,1,21])   "
   ]
  },
  {
   "cell_type": "code",
   "execution_count": 2,
   "metadata": {},
   "outputs": [
    {
     "name": "stdout",
     "output_type": "stream",
     "text": [
      "[2, 4, 6, 8, 10]\n"
     ]
    }
   ],
   "source": [
    "#find out even numbers in the list\n",
    "\n",
    "def myfilter():\n",
    "    list1=[1,2,3,4,5,6,7,8,9,10]\n",
    "    res=[]\n",
    "    for i in list1:\n",
    "        if i%2==0:\n",
    "            res.append(i)\n",
    "          \n",
    "        else:\n",
    "            pass\n",
    "    print(res) \n",
    "\n",
    "myfilter()  "
   ]
  },
  {
   "cell_type": "code",
   "execution_count": 3,
   "metadata": {},
   "outputs": [
    {
     "name": "stdout",
     "output_type": "stream",
     "text": [
      "['A', 'C', 'A', 'D', 'G', 'I', 'L', 'D']\n"
     ]
    }
   ],
   "source": [
    "val=[x for x in 'ACADGILD']\n",
    "print(val)"
   ]
  },
  {
   "cell_type": "code",
   "execution_count": 4,
   "metadata": {},
   "outputs": [
    {
     "name": "stdout",
     "output_type": "stream",
     "text": [
      "['x', 'xx', 'xxx', 'xxxx', 'y', 'yy', 'yyy', 'yyyy', 'z', 'zz', 'zzz', 'zzzz']\n"
     ]
    }
   ],
   "source": [
    "a=[ (i*(j+1)) for i in 'xyz'  for j in range(4) ]\n",
    "print(a)"
   ]
  },
  {
   "cell_type": "code",
   "execution_count": 5,
   "metadata": {},
   "outputs": [
    {
     "name": "stdout",
     "output_type": "stream",
     "text": [
      "['x', 'y', 'z', 'xx', 'yy', 'zz', 'xxx', 'yyy', 'zzz', 'xxxx', 'yyyy', 'zzzz']\n"
     ]
    }
   ],
   "source": [
    "a=[ (i*(j+1)) for j in range(4) for i in 'xyz'   ]\n",
    "print(a)"
   ]
  },
  {
   "cell_type": "code",
   "execution_count": 6,
   "metadata": {},
   "outputs": [
    {
     "data": {
      "text/plain": [
       "[[2], [3], [4], [3], [4], [5], [4], [5], [6]]"
      ]
     },
     "execution_count": 6,
     "metadata": {},
     "output_type": "execute_result"
    }
   ],
   "source": [
    "list1 = [[x+y] for x in range(2,5) for y in range(3)]\n",
    "list1\n"
   ]
  },
  {
   "cell_type": "code",
   "execution_count": 7,
   "metadata": {},
   "outputs": [
    {
     "data": {
      "text/plain": [
       "[[2, 3, 4, 5], [3, 4, 5, 6], [4, 5, 6, 7], [5, 6, 7, 8]]"
      ]
     },
     "execution_count": 7,
     "metadata": {},
     "output_type": "execute_result"
    }
   ],
   "source": [
    "list1 = [[x,x+1,x+2,x+3] for x in range(2,6)]\n",
    "list1\n"
   ]
  },
  {
   "cell_type": "code",
   "execution_count": 8,
   "metadata": {},
   "outputs": [
    {
     "data": {
      "text/plain": [
       "[(1, 1), (2, 1), (3, 1), (1, 2), (2, 2), (3, 2), (1, 3), (2, 3), (3, 3)]"
      ]
     },
     "execution_count": 8,
     "metadata": {},
     "output_type": "execute_result"
    }
   ],
   "source": [
    "list1 = [(j,i+1) for i in range(3) for j in range(1,4) ]\n",
    "list1"
   ]
  },
  {
   "cell_type": "code",
   "execution_count": 9,
   "metadata": {},
   "outputs": [
    {
     "name": "stdout",
     "output_type": "stream",
     "text": [
      "ksgdsgjfsdhugfsdfsdfhjsdfsvg\n"
     ]
    }
   ],
   "source": [
    "#find out the longest word in the given words \n",
    "#without print more than one value\n",
    "\n",
    "def longestWord(num):\n",
    "    b=1\n",
    "    for i in num:\n",
    "        Length=len(i)\n",
    "        if Length>=b:\n",
    "            c=i\n",
    "            b=Length\n",
    "    print(c)\n",
    "\n",
    "longestWord(['Computervision','blockchain','ksgdsgjfsdhugfsdfsdfhjsdfsvg','microsoftazure','datascience'])\n"
   ]
  },
  {
   "cell_type": "code",
   "execution_count": 13,
   "metadata": {},
   "outputs": [
    {
     "name": "stdout",
     "output_type": "stream",
     "text": [
      "Enter side 1 : 8\n",
      "Enter side 2 : 7\n",
      "Enter side 3 : 3\n",
      "8.0 7.0 3.0\n",
      "The area of the triangle is 10.39\n"
     ]
    }
   ],
   "source": [
    "#Area of triangle with class and inheritance concept\n",
    "\n",
    "class length_triangle:\n",
    "    def __init__(self,n):\n",
    "        self.n=n\n",
    "        self.sides= [0 for i in range(n)]\n",
    "        \n",
    "\n",
    "    def getting_sides(self):\n",
    "        self.sides =[float(input(\"Enter side \"+str(i+1)+\" : \")) for i in range(self.n)]\n",
    "    \n",
    "    def display_sides(self):\n",
    "        for i in range(self.n):\n",
    "            print(\"Side\",i+1,\"is\",self.sides[i])\n",
    "        \n",
    "class Area_triangle(length_triangle):\n",
    "    def __init__(self):\n",
    "        length_triangle.__init__(self,3)\n",
    "        \n",
    "    def findArea(self):\n",
    "        a, b, c = self.sides\n",
    "        print(a,b,c)\n",
    "        # calculate the semi-perimeter\n",
    "        s = (a + b + c) / 2\n",
    "        area = (s*(s-a)*(s-b)*(s-c)) ** 0.5\n",
    "        print('The area of the triangle is %0.2f' %area)\n",
    "    \n",
    "\n",
    "res=Area_triangle()\n",
    "res.getting_sides()\n",
    "res.findArea()\n"
   ]
  },
  {
   "cell_type": "code",
   "execution_count": 11,
   "metadata": {},
   "outputs": [
    {
     "name": "stdout",
     "output_type": "stream",
     "text": [
      "['haisaravananhowareyou', 'transporttt']\n"
     ]
    }
   ],
   "source": [
    "#function filter_long_words() that takes a list of words and an integer n  \n",
    "#returns the list of words which longer than n\n",
    "\n",
    "def filter_long_words(n,args):\n",
    "    A=[]\n",
    "    for i in args:\n",
    "        Length=len(i)\n",
    "        if (Length > n):\n",
    "            A.append(i)\n",
    "    return A  \n",
    "\n",
    "val=filter_long_words(10,['world','technology','television','haisaravananhowareyou','transporttt'])\n",
    "print(val)\n"
   ]
  },
  {
   "cell_type": "code",
   "execution_count": 14,
   "metadata": {},
   "outputs": [
    {
     "name": "stdout",
     "output_type": "stream",
     "text": [
      "[2, 3, 4]\n"
     ]
    }
   ],
   "source": [
    "#Find out the length of the words using Map\n",
    "\n",
    "def len_words(arg):\n",
    "    return len(arg)\n",
    "\n",
    "#input for the Map function\n",
    "words=(['ab','cde','erty'])\n",
    "result=map(len_words,words)\n",
    "print(list(result))\n"
   ]
  },
  {
   "cell_type": "code",
   "execution_count": 16,
   "metadata": {},
   "outputs": [
    {
     "name": "stdout",
     "output_type": "stream",
     "text": [
      "True\n"
     ]
    }
   ],
   "source": [
    "# find out vowel or not \n",
    "\n",
    "def vowel_check(val):\n",
    "    vowel_list=('a','e','i','o','u')\n",
    "    if val.lower() in vowel_list:\n",
    "        return 'True'\n",
    "    else:\n",
    "        return 'False'\n",
    "    \n",
    "res=vowel_check('A')\n",
    "print(res)\n"
   ]
  }
 ],
 "metadata": {
  "kernelspec": {
   "display_name": "Python 3",
   "language": "python",
   "name": "python3"
  },
  "language_info": {
   "codemirror_mode": {
    "name": "ipython",
    "version": 3
   },
   "file_extension": ".py",
   "mimetype": "text/x-python",
   "name": "python",
   "nbconvert_exporter": "python",
   "pygments_lexer": "ipython3",
   "version": "3.7.4"
  }
 },
 "nbformat": 4,
 "nbformat_minor": 2
}
